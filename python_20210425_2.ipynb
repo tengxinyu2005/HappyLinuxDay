{
  "nbformat": 4,
  "nbformat_minor": 0,
  "metadata": {
    "colab": {
      "name": "python_20210425-2.ipynb",
      "provenance": [],
      "collapsed_sections": [],
      "authorship_tag": "ABX9TyN8/vsZIPsb1yDV4alnHdyr",
      "include_colab_link": true
    },
    "kernelspec": {
      "name": "python3",
      "display_name": "Python 3"
    },
    "language_info": {
      "name": "python"
    }
  },
  "cells": [
    {
      "cell_type": "markdown",
      "metadata": {
        "id": "view-in-github",
        "colab_type": "text"
      },
      "source": [
        "<a href=\"https://colab.research.google.com/github/tengxinyu2005/HappyLinuxDay/blob/main/python_20210425_2.ipynb\" target=\"_parent\"><img src=\"https://colab.research.google.com/assets/colab-badge.svg\" alt=\"Open In Colab\"/></a>"
      ]
    },
    {
      "cell_type": "markdown",
      "metadata": {
        "id": "yvFF-HTjuw1W"
      },
      "source": [
        "Happy Python Day 2021.4.25\n",
        "\n"
      ]
    },
    {
      "cell_type": "code",
      "metadata": {
        "colab": {
          "base_uri": "https://localhost:8080/"
        },
        "id": "p6Fj3n28MDt0",
        "outputId": "bee4579a-2681-4efb-cd65-bf8a015c185b"
      },
      "source": [
        "a = 1.0004\n",
        "int(a)"
      ],
      "execution_count": 5,
      "outputs": [
        {
          "output_type": "execute_result",
          "data": {
            "text/plain": [
              "1"
            ]
          },
          "metadata": {
            "tags": []
          },
          "execution_count": 5
        }
      ]
    },
    {
      "cell_type": "code",
      "metadata": {
        "colab": {
          "base_uri": "https://localhost:8080/"
        },
        "id": "G725r83AMGiN",
        "outputId": "5ea0432d-1e89-4f23-9bae-11bf6dd3bfdc"
      },
      "source": [
        "b = 0.9999\n",
        "int(a)"
      ],
      "execution_count": 6,
      "outputs": [
        {
          "output_type": "execute_result",
          "data": {
            "text/plain": [
              "1"
            ]
          },
          "metadata": {
            "tags": []
          },
          "execution_count": 6
        }
      ]
    },
    {
      "cell_type": "code",
      "metadata": {
        "colab": {
          "base_uri": "https://localhost:8080/"
        },
        "id": "yN3tRFZ5MXz8",
        "outputId": "91c62c29-e193-4d28-a72d-00a71a7de5d1"
      },
      "source": [
        "a = dict(one=1, two=2, three=3)\n",
        "b = {'one': 1, 'two': 2, 'three': 3}\n",
        "c = dict(zip(['one', 'two', 'three'], [1, 2, 3]))\n",
        "d = dict([('two', 2), ('one', 1), ('three', 3)])\n",
        "e = dict({'three': 3, 'one': 1, 'two': 2})\n",
        "f = dict({'one': 1, 'three': 3}, two=2)\n",
        "a == b == c == d == e == f"
      ],
      "execution_count": 7,
      "outputs": [
        {
          "output_type": "execute_result",
          "data": {
            "text/plain": [
              "True"
            ]
          },
          "metadata": {
            "tags": []
          },
          "execution_count": 7
        }
      ]
    }
  ]
}